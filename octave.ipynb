{
 "cells": [
  {
   "cell_type": "markdown",
   "id": "c5aad8a9-1c20-48aa-9bf2-cf0a21dfc5a7",
   "metadata": {},
   "source": [
    "# Matemática e computação numérica com Octave"
   ]
  },
  {
   "cell_type": "markdown",
   "id": "adb0ab87-9801-4ca5-808e-b06a99a9bf4a",
   "metadata": {},
   "source": [
    "## Vetores"
   ]
  },
  {
   "cell_type": "markdown",
   "id": "6b76451f-cdfc-4db8-8d04-60813ffab77d",
   "metadata": {},
   "source": [
    "Um vetor é um conjunto unidimensional e finito de elementos homogêneos."
   ]
  },
  {
   "cell_type": "markdown",
   "id": "ad1d962c-0577-43f4-93ec-fdb11544ce50",
   "metadata": {},
   "source": [
    "*Podem ser definidos mediante a disposição de elementos entre colchetes, separados por espaços:*"
   ]
  },
  {
   "cell_type": "code",
   "execution_count": null,
   "id": "290f1986-6829-4ba4-bfbe-95c7e6129ed6",
   "metadata": {},
   "outputs": [],
   "source": [
    "v1 = [1 2 3 4 5]; \n",
    "disp(v1); "
   ]
  },
  {
   "cell_type": "markdown",
   "id": "0fa36df7-612f-4385-ae6c-d916558f4335",
   "metadata": {},
   "source": [
    "*Ou podem ser definidos mediante a disposição de elementos entre colchetes, separados por vírgula:*"
   ]
  },
  {
   "cell_type": "code",
   "execution_count": null,
   "id": "583a0ae9-9178-457c-8884-7a669c70df1b",
   "metadata": {},
   "outputs": [],
   "source": [
    "v2 = [1, 2, 3, 4, 5]; \n",
    "disp(v2); "
   ]
  },
  {
   "cell_type": "markdown",
   "id": "c07868e8-5b78-4bef-9b4d-866cbe5c567a",
   "metadata": {},
   "source": [
    "*Nas duas maneiras anteriormente citadas, o vetor será disposto horizontalmente. \\\n",
    " Caso queira dispô-lo verticalmente, separe os elementos com ponto e vírgula:*"
   ]
  },
  {
   "cell_type": "code",
   "execution_count": null,
   "id": "cc2270b9-f707-406e-ab2e-27b5d1f75c7f",
   "metadata": {},
   "outputs": [],
   "source": [
    "v3 = [1; 2; 3; 4; 5]; \n",
    "disp(v3); "
   ]
  },
  {
   "cell_type": "markdown",
   "id": "35d87203-4a53-406a-9abb-891b9d582606",
   "metadata": {},
   "source": [
    "*Ou insira o sinal para retornar a transposta do vetor, após o colchete de fechamento:*"
   ]
  },
  {
   "cell_type": "code",
   "execution_count": null,
   "id": "fc5c4195-82a6-46e4-af34-afe4da899446",
   "metadata": {},
   "outputs": [],
   "source": [
    "v4 = [1 2 3 4 5]'; \n",
    "disp(v4); "
   ]
  },
  {
   "cell_type": "markdown",
   "id": "f667adaf-f10c-47a5-9927-590d05417360",
   "metadata": {},
   "source": [
    "### Funções integradas"
   ]
  },
  {
   "cell_type": "markdown",
   "id": "8205ec16-c562-48e4-95e2-bf8052f1f6b4",
   "metadata": {},
   "source": [
    "O Octave fornece uma função integrada para a criação de vetores, com N elementos, situados entre x1 e x2:"
   ]
  },
  {
   "cell_type": "code",
   "execution_count": null,
   "id": "169b90f7-70a9-42bb-9943-b3bc1beed7a7",
   "metadata": {},
   "outputs": [],
   "source": [
    "v = linspace(0,1,5) "
   ]
  },
  {
   "cell_type": "markdown",
   "id": "7816ab4c-cbda-41cf-a684-62695d17c5ff",
   "metadata": {},
   "source": [
    "## Matrizes"
   ]
  },
  {
   "cell_type": "markdown",
   "id": "012cd821-68d3-4d40-9c2b-28f8a3fa5d4b",
   "metadata": {},
   "source": [
    "Matriz é um conjunto de elementos finitos e homogêneos de duas ou mais dimensões."
   ]
  },
  {
   "cell_type": "code",
   "execution_count": null,
   "id": "07ebb337-d54c-410a-be17-70184b0cad77",
   "metadata": {},
   "outputs": [],
   "source": [
    "m1 = [1, 2, 3; 4, 5, 6; 7, 8, 9]"
   ]
  },
  {
   "cell_type": "markdown",
   "id": "4ad8478a-cdf0-4f9a-adee-fd0674b8da66",
   "metadata": {},
   "source": [
    "Imagine matrizes multidimensionais como folhas sobrepostas. Para criar uma matriz de 3 ou mais dimensões, basta adicionar uma nova folha ou página."
   ]
  },
  {
   "cell_type": "code",
   "execution_count": null,
   "id": "e481ad2b-5954-4dbd-821d-ac1c9aa4f7b3",
   "metadata": {},
   "outputs": [],
   "source": [
    "m1(:,:,2) = [10 11 12; 13 14 15; 16 17 18]"
   ]
  },
  {
   "cell_type": "code",
   "execution_count": null,
   "id": "6df4d357-ccb1-4deb-ae8e-c057bd8aad00",
   "metadata": {},
   "outputs": [],
   "source": [
    "m1(:,:,3) = [19 20 21; 22 23 24; 25 26 27]"
   ]
  },
  {
   "cell_type": "markdown",
   "id": "681a7443-180e-4522-89d5-b83879a5c46d",
   "metadata": {},
   "source": [
    "### Funções integradas"
   ]
  },
  {
   "cell_type": "markdown",
   "id": "8d74b536-1cea-4b10-abad-6f088853b044",
   "metadata": {},
   "source": [
    "O Octave fornece um conjunto de funções integradas para a criação de matrizes: "
   ]
  },
  {
   "cell_type": "code",
   "execution_count": null,
   "id": "c8b43d2d-d5c3-4f03-8e51-89d5d25e2c06",
   "metadata": {},
   "outputs": [],
   "source": [
    "z = zeros(5,5)"
   ]
  },
  {
   "cell_type": "code",
   "execution_count": null,
   "id": "31519e51-a4cd-44f2-bf65-88d77c23dc53",
   "metadata": {},
   "outputs": [],
   "source": [
    "o = ones(5,5)"
   ]
  },
  {
   "cell_type": "code",
   "execution_count": null,
   "id": "5b973f2f-4b73-4e15-a557-186c4025dfbd",
   "metadata": {},
   "outputs": [],
   "source": [
    "y = eye(5)"
   ]
  },
  {
   "cell_type": "code",
   "execution_count": null,
   "id": "f20c38f5-248f-4ca2-831a-0c0160b68f58",
   "metadata": {},
   "outputs": [],
   "source": [
    "r = rand(5)"
   ]
  },
  {
   "cell_type": "code",
   "execution_count": null,
   "id": "7188d732-056d-4941-9c3d-b4267646af1c",
   "metadata": {},
   "outputs": [],
   "source": [
    "d = diag(1:5)"
   ]
  },
  {
   "cell_type": "markdown",
   "id": "9c3cda27-a9dd-4ee5-b8d6-1b60feed0183",
   "metadata": {},
   "source": [
    "### Operações com matrizes"
   ]
  },
  {
   "cell_type": "code",
   "execution_count": null,
   "id": "b4fdec55-4bf2-4406-b9b7-5c0c72d99c4c",
   "metadata": {},
   "outputs": [],
   "source": [
    "y(5,:) = [1 2 3 4 5]"
   ]
  },
  {
   "cell_type": "code",
   "execution_count": null,
   "id": "769fa324-b897-44b3-a921-82910955cc07",
   "metadata": {},
   "outputs": [],
   "source": [
    "y1 = y + 1"
   ]
  },
  {
   "cell_type": "code",
   "execution_count": null,
   "id": "fd0142e3-9df7-4231-9329-069e161f3f61",
   "metadata": {},
   "outputs": [],
   "source": [
    "y2 = y * 2\n"
   ]
  },
  {
   "cell_type": "code",
   "execution_count": null,
   "id": "63dea5f9-8bb8-4fc8-9454-19f536a41fa0",
   "metadata": {},
   "outputs": [],
   "source": [
    "y3 = y .* 2"
   ]
  },
  {
   "cell_type": "code",
   "execution_count": null,
   "id": "bd95fad5-7e37-4b63-9451-b7ee90842e0c",
   "metadata": {},
   "outputs": [],
   "source": [
    "y4 = y ^ 2"
   ]
  },
  {
   "cell_type": "code",
   "execution_count": null,
   "id": "1579551f-9a4e-4a01-b1c9-832a7256bb6a",
   "metadata": {
    "scrolled": true
   },
   "outputs": [],
   "source": [
    "y5 = y .^ 2"
   ]
  },
  {
   "cell_type": "code",
   "execution_count": null,
   "id": "b4b9158e-f6fa-4eb5-91c2-abe1d0e3b7d8",
   "metadata": {},
   "outputs": [],
   "source": [
    "R = reshape([1:12], 3,4)"
   ]
  },
  {
   "cell_type": "code",
   "execution_count": null,
   "id": "1ecf5a6c-f231-4871-b69b-5a47256bc950",
   "metadata": {},
   "outputs": [],
   "source": [
    "S = [2, 1, 4, 3; 1, 2, 3, 4; 4, 3, 2, 1]"
   ]
  },
  {
   "cell_type": "code",
   "execution_count": null,
   "id": "43530b44-2a55-4dc7-b64d-4ed4a2d234d5",
   "metadata": {},
   "outputs": [],
   "source": [
    "A = reshape([R], 4,3)"
   ]
  },
  {
   "cell_type": "code",
   "execution_count": null,
   "id": "4e7cffc6-f7f4-4ec4-9894-fb8a154e17b5",
   "metadata": {},
   "outputs": [],
   "source": [
    "T = A * S"
   ]
  },
  {
   "cell_type": "code",
   "execution_count": null,
   "id": "4c31b47d-504a-4bae-8031-581526094a37",
   "metadata": {},
   "outputs": [],
   "source": [
    "U = S * A"
   ]
  },
  {
   "cell_type": "markdown",
   "id": "8e6067a4-7e8d-4f39-8e5b-7665e6959a20",
   "metadata": {},
   "source": [
    "### Concatenação de matrizes"
   ]
  },
  {
   "cell_type": "markdown",
   "id": "d33f24f7-e8be-4897-b4b9-baf13df9d79e",
   "metadata": {},
   "source": [
    "**Vertical**"
   ]
  },
  {
   "cell_type": "code",
   "execution_count": null,
   "id": "0554d2b0-ac5a-47a5-a2e7-ef47d3ff6a8b",
   "metadata": {},
   "outputs": [],
   "source": [
    "concat_y = vertcat(R, S)"
   ]
  },
  {
   "cell_type": "markdown",
   "id": "3c1949d1-23cf-4f37-9236-c5b549c3fe66",
   "metadata": {},
   "source": [
    "**Horizontal**"
   ]
  },
  {
   "cell_type": "code",
   "execution_count": null,
   "id": "7f3db79a-6e7d-4816-af45-295c38426433",
   "metadata": {},
   "outputs": [],
   "source": [
    "concat_x = horzcat(R, S)"
   ]
  },
  {
   "cell_type": "markdown",
   "id": "e75f74f9-f4c9-4ea6-9886-e7618bf3bfb8",
   "metadata": {},
   "source": [
    "### Arranjo de matrizes"
   ]
  },
  {
   "cell_type": "code",
   "execution_count": null,
   "id": "c01c3176-5df2-4dfb-854a-faab89027db2",
   "metadata": {},
   "outputs": [],
   "source": [
    "R\n",
    "lr = fliplr (R) "
   ]
  },
  {
   "cell_type": "code",
   "execution_count": null,
   "id": "cf50e1bc-b8f8-4e60-853b-d704d67ee343",
   "metadata": {},
   "outputs": [],
   "source": [
    "S\n",
    "ud = flipud (S)"
   ]
  },
  {
   "cell_type": "code",
   "execution_count": null,
   "id": "15dfcabf-0515-4c74-8520-3a708354e4d7",
   "metadata": {},
   "outputs": [],
   "source": [
    "rot90(R)\n",
    "rot90(S, -2)"
   ]
  },
  {
   "cell_type": "markdown",
   "id": "1943475f-8d49-4d80-be0a-192914511c8b",
   "metadata": {},
   "source": [
    "### Broadcasting"
   ]
  },
  {
   "cell_type": "markdown",
   "id": "f67b1237-d79c-4426-8e15-e0b08eda80b8",
   "metadata": {},
   "source": [
    "Normalmente, as operações com matrizes são elemento a elemento; logo, funcionam apenas com matrizes de mesmo tamanho. Entretanto, a partir da versão 3.6.0, Octave permite operações com matrizes de tamanhos diferentes, através do mecanismo de transformaçã denominado *broadcasting*."
   ]
  },
  {
   "cell_type": "code",
   "execution_count": null,
   "id": "6170092e-493a-47fc-858e-e90734b28f5d",
   "metadata": {},
   "outputs": [],
   "source": [
    "b = [1 2 3;\n",
    "     4 5 6;\n",
    "     7 8 9];\n",
    "\n",
    "p = [10 20 30];\n",
    "\n",
    "q = x + y"
   ]
  },
  {
   "cell_type": "markdown",
   "id": "a2a5a775-c427-4f99-b00c-01e5973a245f",
   "metadata": {},
   "source": [
    "### Indexação"
   ]
  },
  {
   "cell_type": "code",
   "execution_count": null,
   "id": "7bbe2bb5-6f68-49c3-8483-edc47518ff20",
   "metadata": {},
   "outputs": [],
   "source": [
    "% Criamos uma matriz tridimensional\n",
    "I = reshape (1:8, 2, 2, 2) \n",
    "\n",
    "% Selecionamos o quarto elemento da segunda folha\n",
    "I(2,4)"
   ]
  },
  {
   "cell_type": "markdown",
   "id": "c174e6a7-805d-46e2-8e51-a43ef6475d99",
   "metadata": {},
   "source": [
    "### Fatiamento"
   ]
  },
  {
   "cell_type": "code",
   "execution_count": null,
   "id": "483c5ff0-7fd4-4040-952e-9f24f4a81a35",
   "metadata": {},
   "outputs": [],
   "source": [
    "z\n",
    "f1 = z(:,1:2)\n",
    "f2 = z(:,2:end)"
   ]
  },
  {
   "cell_type": "markdown",
   "id": "13c751e8-11be-4651-a196-3c0f35ac01b3",
   "metadata": {},
   "source": [
    "## Intervalos"
   ]
  },
  {
   "cell_type": "markdown",
   "id": "bdc6c315-ef00-407e-99d1-a1c89a824139",
   "metadata": {},
   "source": [
    "Intervalos são vetores cujos elementos são separados por espaços.<br>\n",
    "Podemos definir sequências númericas da seguinte maneira:<br>\n",
    "*a) atribuindo os valores das extremidades do intervalo, inclusivos, separados por dois pontos;*"
   ]
  },
  {
   "cell_type": "code",
   "execution_count": null,
   "id": "a05bfbc7-ccde-4e29-be40-5bf82f8f927f",
   "metadata": {},
   "outputs": [],
   "source": [
    "a = 0:11;\n",
    "disp(a)"
   ]
  },
  {
   "cell_type": "code",
   "execution_count": null,
   "id": "a2a23913-d1f1-42cc-9964-d124fc0c4832",
   "metadata": {},
   "outputs": [],
   "source": [
    "size(a)"
   ]
  },
  {
   "cell_type": "code",
   "execution_count": null,
   "id": "a4bd1227-61cd-4460-8b37-d227c2249049",
   "metadata": {},
   "outputs": [],
   "source": [
    "a1 = reshape(a,3,4)"
   ]
  },
  {
   "cell_type": "markdown",
   "id": "3f87cc9c-ed8c-4c3b-aa09-2a73b3469339",
   "metadata": {},
   "source": [
    "**Observação**: nesse caso, temos uma sucessão numérica semelhante a uma progressão de razão igual a 1."
   ]
  },
  {
   "cell_type": "markdown",
   "id": "15b144c3-00f8-41ee-a466-e75c72729175",
   "metadata": {},
   "source": [
    "*b) atribuindo explicitamente o valor da razão, entre o termo inicial e final da sequência, \\\n",
    "separados por dois pontos:*"
   ]
  },
  {
   "cell_type": "code",
   "execution_count": null,
   "id": "f29e985e-76bd-43b1-b722-9ebfe5262cea",
   "metadata": {},
   "outputs": [],
   "source": [
    "b = 0 : 2 : 10;\n",
    "disp(b)\n"
   ]
  },
  {
   "cell_type": "code",
   "execution_count": null,
   "id": "4345f518-256b-4ad1-a2fd-75da1b2e54f6",
   "metadata": {},
   "outputs": [],
   "source": [
    "x = 0:0.1:0.5;\n",
    "disp(x)"
   ]
  },
  {
   "cell_type": "code",
   "execution_count": null,
   "id": "a166c8c6-be6f-4ab6-b2d9-cf964eeba06d",
   "metadata": {},
   "outputs": [],
   "source": [
    "y = [0:0.1:0.5];\n",
    "disp(y)"
   ]
  },
  {
   "cell_type": "markdown",
   "id": "4cbbf7b1-5931-4026-a368-b03bf22eab05",
   "metadata": {},
   "source": [
    "### Funções integradas"
   ]
  },
  {
   "cell_type": "markdown",
   "id": "123edf8b-1c67-464d-b2bd-48f340c31605",
   "metadata": {},
   "source": [
    "A função booleana *isvector()* retorna 1 para *True* e 0 para *False*."
   ]
  },
  {
   "cell_type": "code",
   "execution_count": null,
   "id": "5fc7a462-5076-42a8-9102-b1436d17a145",
   "metadata": {},
   "outputs": [],
   "source": [
    "isvector(a)"
   ]
  },
  {
   "cell_type": "markdown",
   "id": "7f3e8480-542d-4048-b51a-1fc1237d93d8",
   "metadata": {},
   "source": [
    "A função *uintX()* converte a variável para o tipo de dados *uint* (*unsigned integer type*), com o valor mínimo igual a 0, e o valor máximo definido por *X*, armazenado com 8, 16, 32 ou 64 *bits*:"
   ]
  },
  {
   "cell_type": "code",
   "execution_count": null,
   "id": "0767b146-036e-48e4-a70c-5062efebd6bd",
   "metadata": {},
   "outputs": [],
   "source": [
    "z = uint8(a);\n",
    "z\n",
    "whos a z"
   ]
  },
  {
   "cell_type": "code",
   "execution_count": null,
   "id": "c5afa6f1-375d-4dc5-977c-5c324d6ac790",
   "metadata": {},
   "outputs": [],
   "source": [
    "m = uint16(a);\n",
    "whos a z m"
   ]
  }
 ],
 "metadata": {
  "kernelspec": {
   "display_name": "Octave",
   "language": "octave",
   "name": "octave"
  },
  "language_info": {
   "file_extension": ".m",
   "help_links": [
    {
     "text": "GNU Octave",
     "url": "https://www.gnu.org/software/octave/support.html"
    },
    {
     "text": "Octave Kernel",
     "url": "https://github.com/Calysto/octave_kernel"
    },
    {
     "text": "MetaKernel Magics",
     "url": "https://metakernel.readthedocs.io/en/latest/source/README.html"
    }
   ],
   "mimetype": "text/x-octave",
   "name": "octave",
   "version": "6.4.0"
  }
 },
 "nbformat": 4,
 "nbformat_minor": 5
}
